{
 "cells": [
  {
   "cell_type": "code",
   "execution_count": 1,
   "id": "b05ea080-0f8d-446b-ac5c-f62734a1d74f",
   "metadata": {},
   "outputs": [],
   "source": [
    "import requests\n",
    "import json"
   ]
  },
  {
   "cell_type": "code",
   "execution_count": 6,
   "id": "8c2a955a-0c84-4a14-9af8-08bb8ecb53fb",
   "metadata": {},
   "outputs": [],
   "source": [
    "api_key = '18bef9f9-a5f2-41e0-8161-bed70dd3979c'\n",
    "api_url = 'https://pro-api.coinmarketcap.com/v1/cryptocurrency/quotes/latest'"
   ]
  },
  {
   "cell_type": "code",
   "execution_count": 7,
   "id": "cbc10c47-8ad7-4c34-9570-86018b386757",
   "metadata": {},
   "outputs": [],
   "source": [
    "def fetch_data():\n",
    "    try:\n",
    "        headers = {\n",
    "            'X-CMC_PRO_API_KEY': api_key\n",
    "        }\n",
    "        params = {\n",
    "            'symbol': \"rocky\",\n",
    "        }\n",
    "        response = requests.get(api_url, headers=headers, params=params)\n",
    "        data = response.json()\n",
    "        return data\n",
    "    except Exception as e:\n",
    "        print(response)\n",
    "        print('Error fetching data:', e)\n",
    "        return None"
   ]
  },
  {
   "cell_type": "code",
   "execution_count": 8,
   "id": "acacb961-f3cc-4baa-ab8c-0661607dec24",
   "metadata": {},
   "outputs": [
    {
     "name": "stdout",
     "output_type": "stream",
     "text": [
      "{'ROCKY': {'id': 28661, 'name': 'Rocky', 'symbol': 'ROCKY', 'slug': 'rocky', 'num_market_pairs': 10, 'date_added': '2023-12-11T05:44:50.000Z', 'tags': ['solana-ecosystem'], 'max_supply': 1000000000, 'circulating_supply': 0, 'total_supply': 1000000000, 'platform': {'id': 5426, 'name': 'Solana', 'symbol': 'SOL', 'slug': 'solana', 'token_address': '4icEZCrEYNop2ZaMMCkRHaNzkt6xG9BpijMCQV7mpw6Z'}, 'is_active': 1, 'infinite_supply': False, 'cmc_rank': 3657, 'is_fiat': 0, 'self_reported_circulating_supply': 1000000000, 'self_reported_market_cap': 1685284.729098384, 'tvl_ratio': None, 'last_updated': '2024-05-02T07:36:00.000Z', 'quote': {'USD': {'price': 0.001685284729098384, 'volume_24h': 114453.9965559, 'volume_change_24h': 101.5189, 'percent_change_1h': 0.86003155, 'percent_change_24h': 11.81645301, 'percent_change_7d': 8.96849019, 'percent_change_30d': -16.72766907, 'percent_change_60d': -66.45513959, 'percent_change_90d': -0.75602429, 'market_cap': 0, 'market_cap_dominance': 0, 'fully_diluted_market_cap': 1685284.73, 'tvl': None, 'last_updated': '2024-05-02T07:36:00.000Z'}}}}\n"
     ]
    }
   ],
   "source": [
    "response_data = fetch_data()\n",
    "print(response_data['data'])\n",
    "# with open('data.json', 'w') as f:\n",
    "#         json.dump(response_data, f)"
   ]
  },
  {
   "cell_type": "code",
   "execution_count": null,
   "id": "6c17b0d1-d6f9-42a5-a9cd-bc5dc09fc612",
   "metadata": {},
   "outputs": [],
   "source": []
  }
 ],
 "metadata": {
  "kernelspec": {
   "display_name": "Python 3 (ipykernel)",
   "language": "python",
   "name": "python3"
  },
  "language_info": {
   "codemirror_mode": {
    "name": "ipython",
    "version": 3
   },
   "file_extension": ".py",
   "mimetype": "text/x-python",
   "name": "python",
   "nbconvert_exporter": "python",
   "pygments_lexer": "ipython3",
   "version": "3.11.5"
  }
 },
 "nbformat": 4,
 "nbformat_minor": 5
}
