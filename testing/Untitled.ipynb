{
 "cells": [
  {
   "cell_type": "code",
   "execution_count": 1,
   "id": "b05ea080-0f8d-446b-ac5c-f62734a1d74f",
   "metadata": {},
   "outputs": [],
   "source": [
    "import requests\n",
    "import json"
   ]
  },
  {
   "cell_type": "code",
   "execution_count": 18,
   "id": "8c2a955a-0c84-4a14-9af8-08bb8ecb53fb",
   "metadata": {},
   "outputs": [],
   "source": [
    "api_key = '18bef9f9-a5f2-41e0-8161-bed70dd3979c'\n",
    "api_url = 'https://pro-api.coinmarketcap.com/v2/cryptocurrency/info'"
   ]
  },
  {
   "cell_type": "code",
   "execution_count": 29,
   "id": "cbc10c47-8ad7-4c34-9570-86018b386757",
   "metadata": {},
   "outputs": [],
   "source": [
    "def fetch_data():\n",
    "    try:\n",
    "        headers = {\n",
    "            'X-CMC_PRO_API_KEY': api_key\n",
    "        }\n",
    "        params = {\n",
    "            'symbol': \"rocky\",\n",
    "        }\n",
    "        response = requests.get(api_url, headers=headers, params=params)\n",
    "        data = response.json()\n",
    "        return data\n",
    "    except Exception as e:\n",
    "        print(response)\n",
    "        print('Error fetching data:', e)\n",
    "        return None"
   ]
  },
  {
   "cell_type": "code",
   "execution_count": 30,
   "id": "acacb961-f3cc-4baa-ab8c-0661607dec24",
   "metadata": {},
   "outputs": [
    {
     "name": "stdout",
     "output_type": "stream",
     "text": [
      "{'status': {'timestamp': '2024-03-31T12:35:57.156Z', 'error_code': 0, 'error_message': None, 'elapsed': 49, 'credit_count': 1, 'notice': None}, 'data': {'ROCKY': [{'id': 28661, 'name': 'Rocky', 'symbol': 'ROCKY', 'category': 'token', 'description': 'Rocky (ROCKY) is a cryptocurrency launched in 2023and operates on the Solana platform. Rocky has a current supply of 1,000,000,000 with 0 in circulation. The last known price of Rocky is 0.00305849 USD and is up 14.89 over the last 24 hours. It is currently trading on 8 active market(s) with $569,928.13 traded over the last 24 hours. More information can be found at https://rockythedogcoin.com/.', 'slug': 'rocky', 'logo': 'https://s2.coinmarketcap.com/static/img/coins/64x64/28661.png', 'subreddit': '', 'notice': '', 'tags': ['solana-ecosystem'], 'tag-names': ['Solana Ecosystem'], 'tag-groups': ['PLATFORM'], 'urls': {'website': ['https://rockythedogcoin.com/'], 'twitter': ['https://twitter.com/Rocky_Solana'], 'message_board': [], 'chat': ['https://t.me/RockySolana', 'https://t.me/RockySolana'], 'facebook': [], 'explorer': ['https://solscan.io/token/4icEZCrEYNop2ZaMMCkRHaNzkt6xG9BpijMCQV7mpw6Z'], 'reddit': [], 'technical_doc': [], 'source_code': [], 'announcement': []}, 'platform': {'id': '5426', 'name': 'Solana', 'slug': 'solana', 'symbol': 'SOL', 'token_address': '4icEZCrEYNop2ZaMMCkRHaNzkt6xG9BpijMCQV7mpw6Z'}, 'date_added': '2023-12-11T05:44:50.000Z', 'twitter_username': 'Rocky_Solana', 'is_hidden': 0, 'date_launched': '2023-12-04T00:00:00.000Z', 'contract_address': [{'contract_address': '4icEZCrEYNop2ZaMMCkRHaNzkt6xG9BpijMCQV7mpw6Z', 'platform': {'name': 'Solana', 'coin': {'id': '5426', 'name': 'Solana', 'symbol': 'SOL', 'slug': 'solana'}}}], 'self_reported_circulating_supply': 1000000000, 'self_reported_tags': None, 'self_reported_market_cap': 3060182.7186390692, 'infinite_supply': False}, {'id': 15376, 'name': 'Rocky Inu', 'symbol': 'ROCKY', 'category': 'token', 'description': 'Rocky Inu (ROCKY) is a cryptocurrency launched in 2021and operates on the BNB Smart Chain (BEP20) platform. Rocky Inu has a current supply of 1,000,000,000,000,000 with 0 in circulation. The last known price of Rocky Inu is 0 USD and is up 0.00 over the last 24 hours. More information can be found at https://www.rockyinu.com/.', 'slug': 'rocky-inu', 'logo': 'https://s2.coinmarketcap.com/static/img/coins/64x64/15376.png', 'subreddit': '', 'notice': '', 'tags': None, 'tag-names': None, 'tag-groups': None, 'urls': {'website': ['https://www.rockyinu.com/'], 'twitter': ['https://twitter.com/rockyinutoken'], 'message_board': [], 'chat': ['https://t.me/rocky_inu_group'], 'facebook': [], 'explorer': ['https://bscscan.com/token/0x75cc6feb91f9cf00b41f8d2f6f66b4aedaf9727b'], 'reddit': [], 'technical_doc': ['https://19cd4339-4bea-43c3-9e0b-104d5eedca02.filesusr.com/ugd/1f573c_3176eacd82724b96addca31040f7a809.pdf'], 'source_code': ['https://github.com/Rockyinu/Rocky-Inu/blob/main/RockyInu.sol'], 'announcement': []}, 'platform': {'id': '1839', 'name': 'BNB', 'slug': 'bnb', 'symbol': 'BNB', 'token_address': '0x75cc6feb91f9cf00b41f8d2f6f66b4aedaf9727b'}, 'date_added': '2021-11-30T07:33:35.000Z', 'twitter_username': 'rockyinutoken', 'is_hidden': 0, 'date_launched': '2021-11-28T00:00:00.000Z', 'contract_address': [{'contract_address': '0x75cc6feb91f9cf00b41f8d2f6f66b4aedaf9727b', 'platform': {'name': 'BNB Smart Chain (BEP20)', 'coin': {'id': '1839', 'name': 'BNB', 'symbol': 'BNB', 'slug': 'bnb'}}}], 'self_reported_circulating_supply': None, 'self_reported_tags': None, 'self_reported_market_cap': None, 'infinite_supply': False}]}}\n"
     ]
    }
   ],
   "source": [
    "response_data = fetch_data()\n",
    "print(response_data)\n",
    "# with open('data.json', 'w') as f:\n",
    "#         json.dump(response_data, f)"
   ]
  },
  {
   "cell_type": "code",
   "execution_count": null,
   "id": "6c17b0d1-d6f9-42a5-a9cd-bc5dc09fc612",
   "metadata": {},
   "outputs": [],
   "source": []
  }
 ],
 "metadata": {
  "kernelspec": {
   "display_name": "Python 3 (ipykernel)",
   "language": "python",
   "name": "python3"
  },
  "language_info": {
   "codemirror_mode": {
    "name": "ipython",
    "version": 3
   },
   "file_extension": ".py",
   "mimetype": "text/x-python",
   "name": "python",
   "nbconvert_exporter": "python",
   "pygments_lexer": "ipython3",
   "version": "3.11.5"
  }
 },
 "nbformat": 4,
 "nbformat_minor": 5
}
